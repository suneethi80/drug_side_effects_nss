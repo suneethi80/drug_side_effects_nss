{
 "cells": [
  {
   "cell_type": "markdown",
   "metadata": {},
   "source": [
    "In this notebook, two datasets namely two_sides and chemical_substr are cleaned and merged into a single dataframe prior to fitting the models"
   ]
  },
  {
   "cell_type": "markdown",
   "metadata": {},
   "source": [
    "## Import Libraries"
   ]
  },
  {
   "cell_type": "code",
   "execution_count": 1,
   "metadata": {},
   "outputs": [],
   "source": [
    "# Import libraries\n",
    "import pandas as pd\n",
    "from pandas import DataFrame\n",
    "import numpy as np\n",
    "#pd.set_option('display.max_columns', None)  \n",
    "import seaborn as sns\n",
    "#pd.set_option('display.max_rows', None)\n",
    "#from tqdm._tqdm_notebook import tqdm_notebook as tqdm\n",
    "#from tqdm import tqdm"
   ]
  },
  {
   "cell_type": "markdown",
   "metadata": {},
   "source": [
    "## Import two_sides dataset - drug-drug interaction dataset"
   ]
  },
  {
   "cell_type": "code",
   "execution_count": 2,
   "metadata": {},
   "outputs": [
    {
     "name": "stderr",
     "output_type": "stream",
     "text": [
      "/opt/anaconda3/lib/python3.7/site-packages/IPython/core/interactiveshell.py:3058: DtypeWarning: Columns (0,2,4,6,7,8,9,10,11,12) have mixed types. Specify dtype option on import or set low_memory=False.\n",
      "  interactivity=interactivity, compiler=compiler, result=result)\n"
     ]
    }
   ],
   "source": [
    "#Import two sides dataset. TWOSIDES - data of side effects of pairs of drugs\n",
    "\n",
    "two_sides_full=pd.read_csv('data/TWOSIDES.csv.xz.csv', compression='xz', \\\n",
    "                      header=0, sep=',', quotechar='\"')\n"
   ]
  },
  {
   "cell_type": "code",
   "execution_count": 3,
   "metadata": {},
   "outputs": [
    {
     "data": {
      "text/html": [
       "<div>\n",
       "<style scoped>\n",
       "    .dataframe tbody tr th:only-of-type {\n",
       "        vertical-align: middle;\n",
       "    }\n",
       "\n",
       "    .dataframe tbody tr th {\n",
       "        vertical-align: top;\n",
       "    }\n",
       "\n",
       "    .dataframe thead th {\n",
       "        text-align: right;\n",
       "    }\n",
       "</style>\n",
       "<table border=\"1\" class=\"dataframe\">\n",
       "  <thead>\n",
       "    <tr style=\"text-align: right;\">\n",
       "      <th></th>\n",
       "      <th>drug_1_rxnorn_id</th>\n",
       "      <th>drug_1_concept_name</th>\n",
       "      <th>drug_2_rxnorm_id</th>\n",
       "      <th>drug_2_concept_name</th>\n",
       "      <th>condition_meddra_id</th>\n",
       "      <th>condition_concept_name</th>\n",
       "      <th>A</th>\n",
       "      <th>B</th>\n",
       "      <th>C</th>\n",
       "      <th>D</th>\n",
       "      <th>PRR</th>\n",
       "      <th>PRR_error</th>\n",
       "      <th>mean_reporting_frequency</th>\n",
       "    </tr>\n",
       "  </thead>\n",
       "  <tbody>\n",
       "    <tr>\n",
       "      <td>0</td>\n",
       "      <td>10355</td>\n",
       "      <td>Temazepam</td>\n",
       "      <td>136411</td>\n",
       "      <td>sildenafil</td>\n",
       "      <td>10003239</td>\n",
       "      <td>Arthralgia</td>\n",
       "      <td>7</td>\n",
       "      <td>149</td>\n",
       "      <td>24</td>\n",
       "      <td>1536</td>\n",
       "      <td>2.91667</td>\n",
       "      <td>0.421275</td>\n",
       "      <td>0.0448718</td>\n",
       "    </tr>\n",
       "    <tr>\n",
       "      <td>1</td>\n",
       "      <td>1808</td>\n",
       "      <td>Bumetanide</td>\n",
       "      <td>7824</td>\n",
       "      <td>Oxytocin</td>\n",
       "      <td>10003239</td>\n",
       "      <td>Arthralgia</td>\n",
       "      <td>1</td>\n",
       "      <td>13</td>\n",
       "      <td>2</td>\n",
       "      <td>138</td>\n",
       "      <td>5.0</td>\n",
       "      <td>1.19224</td>\n",
       "      <td>0.0714286</td>\n",
       "    </tr>\n",
       "  </tbody>\n",
       "</table>\n",
       "</div>"
      ],
      "text/plain": [
       "  drug_1_rxnorn_id drug_1_concept_name drug_2_rxnorm_id drug_2_concept_name  \\\n",
       "0            10355           Temazepam           136411          sildenafil   \n",
       "1             1808          Bumetanide             7824            Oxytocin   \n",
       "\n",
       "  condition_meddra_id condition_concept_name  A    B   C     D      PRR  \\\n",
       "0            10003239             Arthralgia  7  149  24  1536  2.91667   \n",
       "1            10003239             Arthralgia  1   13   2   138      5.0   \n",
       "\n",
       "  PRR_error mean_reporting_frequency  \n",
       "0  0.421275                0.0448718  \n",
       "1   1.19224                0.0714286  "
      ]
     },
     "execution_count": 3,
     "metadata": {},
     "output_type": "execute_result"
    }
   ],
   "source": [
    "two_sides_full.head(2)"
   ]
  },
  {
   "cell_type": "code",
   "execution_count": 13,
   "metadata": {},
   "outputs": [
    {
     "name": "stdout",
     "output_type": "stream",
     "text": [
      "<class 'pandas.core.frame.DataFrame'>\n",
      "RangeIndex: 42920391 entries, 0 to 42920390\n",
      "Data columns (total 13 columns):\n",
      "drug_1_rxnorn_id            object\n",
      "drug_1_concept_name         object\n",
      "drug_2_rxnorm_id            object\n",
      "drug_2_concept_name         object\n",
      "condition_meddra_id         object\n",
      "condition_concept_name      object\n",
      "A                           object\n",
      "B                           object\n",
      "C                           object\n",
      "D                           object\n",
      "PRR                         object\n",
      "PRR_error                   object\n",
      "mean_reporting_frequency    object\n",
      "dtypes: object(13)\n",
      "memory usage: 4.2+ GB\n"
     ]
    }
   ],
   "source": [
    "two_sides_full.info()"
   ]
  },
  {
   "cell_type": "code",
   "execution_count": 4,
   "metadata": {},
   "outputs": [
    {
     "data": {
      "text/html": [
       "<div>\n",
       "<style scoped>\n",
       "    .dataframe tbody tr th:only-of-type {\n",
       "        vertical-align: middle;\n",
       "    }\n",
       "\n",
       "    .dataframe tbody tr th {\n",
       "        vertical-align: top;\n",
       "    }\n",
       "\n",
       "    .dataframe thead th {\n",
       "        text-align: right;\n",
       "    }\n",
       "</style>\n",
       "<table border=\"1\" class=\"dataframe\">\n",
       "  <thead>\n",
       "    <tr style=\"text-align: right;\">\n",
       "      <th></th>\n",
       "      <th>drug_1_rxnorn_id</th>\n",
       "      <th>drug_1_concept_name</th>\n",
       "      <th>drug_2_rxnorm_id</th>\n",
       "      <th>drug_2_concept_name</th>\n",
       "      <th>condition_meddra_id</th>\n",
       "      <th>condition_concept_name</th>\n",
       "      <th>A</th>\n",
       "      <th>B</th>\n",
       "      <th>C</th>\n",
       "      <th>D</th>\n",
       "      <th>PRR</th>\n",
       "      <th>PRR_error</th>\n",
       "      <th>mean_reporting_frequency</th>\n",
       "    </tr>\n",
       "  </thead>\n",
       "  <tbody>\n",
       "  </tbody>\n",
       "</table>\n",
       "</div>"
      ],
      "text/plain": [
       "Empty DataFrame\n",
       "Columns: [drug_1_rxnorn_id, drug_1_concept_name, drug_2_rxnorm_id, drug_2_concept_name, condition_meddra_id, condition_concept_name, A, B, C, D, PRR, PRR_error, mean_reporting_frequency]\n",
       "Index: []"
      ]
     },
     "execution_count": 4,
     "metadata": {},
     "output_type": "execute_result"
    }
   ],
   "source": [
    "two_sides_full.query('(drug_1_concept_name==\"Tamoxifen\") & \\\n",
    "(drug_2_concept_name==\"sildenafil\") &(condition_concept_name==\"Diarrhoea\")')"
   ]
  },
  {
   "cell_type": "code",
   "execution_count": 5,
   "metadata": {},
   "outputs": [
    {
     "data": {
      "text/html": [
       "<div>\n",
       "<style scoped>\n",
       "    .dataframe tbody tr th:only-of-type {\n",
       "        vertical-align: middle;\n",
       "    }\n",
       "\n",
       "    .dataframe tbody tr th {\n",
       "        vertical-align: top;\n",
       "    }\n",
       "\n",
       "    .dataframe thead th {\n",
       "        text-align: right;\n",
       "    }\n",
       "</style>\n",
       "<table border=\"1\" class=\"dataframe\">\n",
       "  <thead>\n",
       "    <tr style=\"text-align: right;\">\n",
       "      <th></th>\n",
       "      <th>drug_1_rxnorn_id</th>\n",
       "      <th>drug_1_concept_name</th>\n",
       "      <th>drug_2_rxnorm_id</th>\n",
       "      <th>drug_2_concept_name</th>\n",
       "      <th>condition_meddra_id</th>\n",
       "      <th>condition_concept_name</th>\n",
       "      <th>A</th>\n",
       "      <th>B</th>\n",
       "      <th>C</th>\n",
       "      <th>D</th>\n",
       "      <th>PRR</th>\n",
       "      <th>PRR_error</th>\n",
       "      <th>mean_reporting_frequency</th>\n",
       "    </tr>\n",
       "  </thead>\n",
       "  <tbody>\n",
       "    <tr>\n",
       "      <td>79</td>\n",
       "      <td>161</td>\n",
       "      <td>Acetaminophen</td>\n",
       "      <td>1546438</td>\n",
       "      <td>glycopyrronium</td>\n",
       "      <td>10028813</td>\n",
       "      <td>Nausea</td>\n",
       "      <td>3</td>\n",
       "      <td>20</td>\n",
       "      <td>6</td>\n",
       "      <td>224</td>\n",
       "      <td>5.0</td>\n",
       "      <td>0.672439</td>\n",
       "      <td>0.130435</td>\n",
       "    </tr>\n",
       "    <tr>\n",
       "      <td>1549</td>\n",
       "      <td>161</td>\n",
       "      <td>Acetaminophen</td>\n",
       "      <td>1546438</td>\n",
       "      <td>glycopyrronium</td>\n",
       "      <td>10028813</td>\n",
       "      <td>Nausea</td>\n",
       "      <td>3</td>\n",
       "      <td>20</td>\n",
       "      <td>6</td>\n",
       "      <td>224</td>\n",
       "      <td>5.0</td>\n",
       "      <td>0.672439</td>\n",
       "      <td>0.130435</td>\n",
       "    </tr>\n",
       "  </tbody>\n",
       "</table>\n",
       "</div>"
      ],
      "text/plain": [
       "     drug_1_rxnorn_id drug_1_concept_name drug_2_rxnorm_id  \\\n",
       "79                161       Acetaminophen          1546438   \n",
       "1549              161       Acetaminophen          1546438   \n",
       "\n",
       "     drug_2_concept_name condition_meddra_id condition_concept_name  A   B  C  \\\n",
       "79        glycopyrronium            10028813                 Nausea  3  20  6   \n",
       "1549      glycopyrronium            10028813                 Nausea  3  20  6   \n",
       "\n",
       "        D  PRR PRR_error mean_reporting_frequency  \n",
       "79    224  5.0  0.672439                 0.130435  \n",
       "1549  224  5.0  0.672439                 0.130435  "
      ]
     },
     "execution_count": 5,
     "metadata": {},
     "output_type": "execute_result"
    }
   ],
   "source": [
    "two_sides_full.query('(drug_1_concept_name==\"Acetaminophen\") & \\\n",
    "(drug_2_concept_name==\"glycopyrronium\") &(condition_concept_name==\"Nausea\")')"
   ]
  },
  {
   "cell_type": "code",
   "execution_count": 6,
   "metadata": {},
   "outputs": [],
   "source": [
    "#Drop the unwanted columns \n",
    "two_sides=two_sides_full.drop(['A', 'B', 'C', 'D', 'PRR', 'PRR_error', \\\n",
    "                          'mean_reporting_frequency', 'drug_1_rxnorn_id', \\\n",
    "                         'drug_2_rxnorm_id', 'condition_meddra_id'], axis=1)"
   ]
  },
  {
   "cell_type": "code",
   "execution_count": 7,
   "metadata": {},
   "outputs": [],
   "source": [
    "#rename columns\n",
    "two_sides.columns=['drug_1', 'drug_2', 'side_effects']"
   ]
  },
  {
   "cell_type": "code",
   "execution_count": 8,
   "metadata": {},
   "outputs": [
    {
     "data": {
      "text/html": [
       "<div>\n",
       "<style scoped>\n",
       "    .dataframe tbody tr th:only-of-type {\n",
       "        vertical-align: middle;\n",
       "    }\n",
       "\n",
       "    .dataframe tbody tr th {\n",
       "        vertical-align: top;\n",
       "    }\n",
       "\n",
       "    .dataframe thead th {\n",
       "        text-align: right;\n",
       "    }\n",
       "</style>\n",
       "<table border=\"1\" class=\"dataframe\">\n",
       "  <thead>\n",
       "    <tr style=\"text-align: right;\">\n",
       "      <th></th>\n",
       "      <th>drug_1</th>\n",
       "      <th>drug_2</th>\n",
       "      <th>side_effects</th>\n",
       "    </tr>\n",
       "  </thead>\n",
       "  <tbody>\n",
       "    <tr>\n",
       "      <td>0</td>\n",
       "      <td>Temazepam</td>\n",
       "      <td>sildenafil</td>\n",
       "      <td>Arthralgia</td>\n",
       "    </tr>\n",
       "  </tbody>\n",
       "</table>\n",
       "</div>"
      ],
      "text/plain": [
       "      drug_1      drug_2 side_effects\n",
       "0  Temazepam  sildenafil   Arthralgia"
      ]
     },
     "execution_count": 8,
     "metadata": {},
     "output_type": "execute_result"
    }
   ],
   "source": [
    "two_sides.head(1)"
   ]
  },
  {
   "cell_type": "code",
   "execution_count": 9,
   "metadata": {},
   "outputs": [],
   "source": [
    "#There are duplicates for certain drug pairs: remove duplicates\n",
    "two_sides=two_sides.drop_duplicates(subset=['drug_1', 'drug_2', 'side_effects'])"
   ]
  },
  {
   "cell_type": "code",
   "execution_count": 10,
   "metadata": {},
   "outputs": [],
   "source": [
    "# to find unique drug-drug pair\n",
    "#drug_withoutcondn_duplicates=two_sides.drop_duplicates(subset=['drug_1', 'drug_2'])"
   ]
  },
  {
   "cell_type": "code",
   "execution_count": 11,
   "metadata": {},
   "outputs": [],
   "source": [
    "#drug_withoutcondn_duplicates.info()"
   ]
  },
  {
   "cell_type": "code",
   "execution_count": 12,
   "metadata": {},
   "outputs": [
    {
     "name": "stdout",
     "output_type": "stream",
     "text": [
      "<class 'pandas.core.frame.DataFrame'>\n",
      "Int64Index: 42919391 entries, 0 to 42920390\n",
      "Data columns (total 3 columns):\n",
      "drug_1          object\n",
      "drug_2          object\n",
      "side_effects    object\n",
      "dtypes: object(3)\n",
      "memory usage: 1.3+ GB\n"
     ]
    }
   ],
   "source": [
    "two_sides.info()"
   ]
  },
  {
   "cell_type": "code",
   "execution_count": 14,
   "metadata": {},
   "outputs": [
    {
     "data": {
      "text/plain": [
       "12726"
      ]
     },
     "execution_count": 14,
     "metadata": {},
     "output_type": "execute_result"
    }
   ],
   "source": [
    "two_sides.side_effects.nunique()"
   ]
  },
  {
   "cell_type": "markdown",
   "metadata": {},
   "source": [
    "two_sides.query('(drug_1==\"Temazepam\") & \\\n",
    "(drug_2==\"sildenafil\") &(condn_name==\"Diarrhoea\")')"
   ]
  },
  {
   "cell_type": "markdown",
   "metadata": {},
   "source": [
    "Since there are 42 million observations with many side effects and for sake of computing power, only the most common side effects were selected for model building. \n",
    "\n",
    "This creates a selection bias and will lead to imbalance dataset as shown in other notebooks. "
   ]
  },
  {
   "cell_type": "code",
   "execution_count": 15,
   "metadata": {},
   "outputs": [],
   "source": [
    "two_sides_r=two_sides.query('side_effects==\"Nausea\" | side_effects ==\"Dyspnoea\" | \\\n",
    "side_effects ==\"Diarrhoea\" | side_effects ==\"Vomiting\" | side_effects ==\"Pyrexia\" | \\\n",
    "side_effects ==\"Pneumonia\"')"
   ]
  },
  {
   "cell_type": "code",
   "execution_count": 16,
   "metadata": {},
   "outputs": [
    {
     "name": "stdout",
     "output_type": "stream",
     "text": [
      "<class 'pandas.core.frame.DataFrame'>\n",
      "Int64Index: 926781 entries, 3 to 42920304\n",
      "Data columns (total 3 columns):\n",
      "drug_1          926781 non-null object\n",
      "drug_2          926781 non-null object\n",
      "side_effects    926781 non-null object\n",
      "dtypes: object(3)\n",
      "memory usage: 28.3+ MB\n"
     ]
    }
   ],
   "source": [
    "#After selecting for the 6 most common side effects, there were 926,781 observations\n",
    "two_sides_r.info()"
   ]
  },
  {
   "cell_type": "code",
   "execution_count": 17,
   "metadata": {},
   "outputs": [
    {
     "data": {
      "text/html": [
       "<div>\n",
       "<style scoped>\n",
       "    .dataframe tbody tr th:only-of-type {\n",
       "        vertical-align: middle;\n",
       "    }\n",
       "\n",
       "    .dataframe tbody tr th {\n",
       "        vertical-align: top;\n",
       "    }\n",
       "\n",
       "    .dataframe thead th {\n",
       "        text-align: right;\n",
       "    }\n",
       "</style>\n",
       "<table border=\"1\" class=\"dataframe\">\n",
       "  <thead>\n",
       "    <tr style=\"text-align: right;\">\n",
       "      <th></th>\n",
       "      <th>drug_1</th>\n",
       "      <th>drug_2</th>\n",
       "      <th>side_effects</th>\n",
       "    </tr>\n",
       "  </thead>\n",
       "  <tbody>\n",
       "    <tr>\n",
       "      <td>3</td>\n",
       "      <td>Tamoxifen</td>\n",
       "      <td>Prednisone</td>\n",
       "      <td>Diarrhoea</td>\n",
       "    </tr>\n",
       "  </tbody>\n",
       "</table>\n",
       "</div>"
      ],
      "text/plain": [
       "      drug_1      drug_2 side_effects\n",
       "3  Tamoxifen  Prednisone    Diarrhoea"
      ]
     },
     "execution_count": 17,
     "metadata": {},
     "output_type": "execute_result"
    }
   ],
   "source": [
    "two_sides_r.head(1)"
   ]
  },
  {
   "cell_type": "code",
   "execution_count": 18,
   "metadata": {},
   "outputs": [
    {
     "data": {
      "text/plain": [
       "1805"
      ]
     },
     "execution_count": 18,
     "metadata": {},
     "output_type": "execute_result"
    }
   ],
   "source": [
    "two_sides_r.drug_2.nunique()"
   ]
  },
  {
   "cell_type": "code",
   "execution_count": 20,
   "metadata": {},
   "outputs": [
    {
     "data": {
      "text/plain": [
       "1677"
      ]
     },
     "execution_count": 20,
     "metadata": {},
     "output_type": "execute_result"
    }
   ],
   "source": [
    "two_sides_r.drug_1.nunique()"
   ]
  },
  {
   "cell_type": "code",
   "execution_count": 34,
   "metadata": {},
   "outputs": [],
   "source": [
    "#dummize the columns\n",
    "#pd.get_dummies(df, columns=['key2']).groupby(['key1'], as_index=False).sum()\n",
    "#pd.concat([df, pd.get_dummies(df.ANNOT)], 1).groupby(['CHR','BP','SNP','CM']).sum()\n",
    "two_sides_r1=pd.concat([two_sides_r, pd.get_dummies(two_sides_r.side_effects)], 1)\\\n",
    "#.groupby(['drug_1', 'drug_2']).reset_index()\n",
    "#.sum()\n",
    "#two_sides_r1=pd.get_dummies(two_sides_r, columns=['condn_name'])"
   ]
  },
  {
   "cell_type": "code",
   "execution_count": 23,
   "metadata": {},
   "outputs": [],
   "source": [
    "#convert the drug names to lower case. Converted to lower case to match with the drug names\n",
    "#in chemical substructure dataset (see below under \"import chemical structure dataset\")\n",
    "two_sides_r1['drug_1']=two_sides_r1.drug_1.str.lower()\n",
    "two_sides_r1['drug_2']=two_sides_r1.drug_2.str.lower()"
   ]
  },
  {
   "cell_type": "code",
   "execution_count": 21,
   "metadata": {},
   "outputs": [],
   "source": [
    "two_sides_r1.iloc[:,2:]=two_sides_r1.iloc[:,2:].apply(pd.to_numeric, downcast='integer')"
   ]
  },
  {
   "cell_type": "code",
   "execution_count": 35,
   "metadata": {},
   "outputs": [
    {
     "data": {
      "text/html": [
       "<div>\n",
       "<style scoped>\n",
       "    .dataframe tbody tr th:only-of-type {\n",
       "        vertical-align: middle;\n",
       "    }\n",
       "\n",
       "    .dataframe tbody tr th {\n",
       "        vertical-align: top;\n",
       "    }\n",
       "\n",
       "    .dataframe thead th {\n",
       "        text-align: right;\n",
       "    }\n",
       "</style>\n",
       "<table border=\"1\" class=\"dataframe\">\n",
       "  <thead>\n",
       "    <tr style=\"text-align: right;\">\n",
       "      <th></th>\n",
       "      <th>drug_1</th>\n",
       "      <th>drug_2</th>\n",
       "      <th>side_effects</th>\n",
       "      <th>Diarrhoea</th>\n",
       "      <th>Dyspnoea</th>\n",
       "      <th>Nausea</th>\n",
       "      <th>Pneumonia</th>\n",
       "      <th>Pyrexia</th>\n",
       "      <th>Vomiting</th>\n",
       "    </tr>\n",
       "  </thead>\n",
       "  <tbody>\n",
       "    <tr>\n",
       "      <td>3</td>\n",
       "      <td>Tamoxifen</td>\n",
       "      <td>Prednisone</td>\n",
       "      <td>Diarrhoea</td>\n",
       "      <td>1</td>\n",
       "      <td>0</td>\n",
       "      <td>0</td>\n",
       "      <td>0</td>\n",
       "      <td>0</td>\n",
       "      <td>0</td>\n",
       "    </tr>\n",
       "    <tr>\n",
       "      <td>4</td>\n",
       "      <td>Temazepam</td>\n",
       "      <td>sildenafil</td>\n",
       "      <td>Diarrhoea</td>\n",
       "      <td>1</td>\n",
       "      <td>0</td>\n",
       "      <td>0</td>\n",
       "      <td>0</td>\n",
       "      <td>0</td>\n",
       "      <td>0</td>\n",
       "    </tr>\n",
       "  </tbody>\n",
       "</table>\n",
       "</div>"
      ],
      "text/plain": [
       "      drug_1      drug_2 side_effects  Diarrhoea  Dyspnoea  Nausea  Pneumonia  \\\n",
       "3  Tamoxifen  Prednisone    Diarrhoea          1         0       0          0   \n",
       "4  Temazepam  sildenafil    Diarrhoea          1         0       0          0   \n",
       "\n",
       "   Pyrexia  Vomiting  \n",
       "3        0         0  \n",
       "4        0         0  "
      ]
     },
     "execution_count": 35,
     "metadata": {},
     "output_type": "execute_result"
    }
   ],
   "source": [
    "two_sides_r1.head(2)"
   ]
  },
  {
   "cell_type": "code",
   "execution_count": 36,
   "metadata": {},
   "outputs": [
    {
     "data": {
      "text/plain": [
       "drug_1          1677\n",
       "drug_2          1805\n",
       "side_effects       6\n",
       "Diarrhoea          2\n",
       "Dyspnoea           2\n",
       "Nausea             2\n",
       "Pneumonia          2\n",
       "Pyrexia            2\n",
       "Vomiting           2\n",
       "dtype: int64"
      ]
     },
     "execution_count": 36,
     "metadata": {},
     "output_type": "execute_result"
    }
   ],
   "source": [
    "two_sides_r1.nunique()"
   ]
  },
  {
   "cell_type": "code",
   "execution_count": 24,
   "metadata": {},
   "outputs": [
    {
     "name": "stdout",
     "output_type": "stream",
     "text": [
      "<class 'pandas.core.frame.DataFrame'>\n",
      "RangeIndex: 204571 entries, 0 to 204570\n",
      "Data columns (total 8 columns):\n",
      "drug_1       204571 non-null object\n",
      "drug_2       204571 non-null object\n",
      "Diarrhoea    204571 non-null int8\n",
      "Dyspnoea     204571 non-null int8\n",
      "Nausea       204571 non-null int8\n",
      "Pneumonia    204571 non-null int8\n",
      "Pyrexia      204571 non-null int8\n",
      "Vomiting     204571 non-null int8\n",
      "dtypes: int8(6), object(2)\n",
      "memory usage: 4.3+ MB\n"
     ]
    }
   ],
   "source": [
    "two_sides_r1.info()"
   ]
  },
  {
   "cell_type": "code",
   "execution_count": 25,
   "metadata": {},
   "outputs": [],
   "source": [
    "two_sides_r1.to_csv('data/two_sides_r1', index=False)"
   ]
  },
  {
   "cell_type": "code",
   "execution_count": 28,
   "metadata": {},
   "outputs": [
    {
     "data": {
      "text/plain": [
       "list"
      ]
     },
     "execution_count": 28,
     "metadata": {},
     "output_type": "execute_result"
    }
   ],
   "source": [
    "#create a list of drugs from drug_1 column\n",
    "two_sides_drug1list=two_sides_r1.drug_1.tolist()\n",
    "type(two_sides_drug1list)"
   ]
  },
  {
   "cell_type": "code",
   "execution_count": null,
   "metadata": {},
   "outputs": [],
   "source": [
    "#create a list of drugs from drug_2 column\n",
    "two_sides_drug2list=two_sides_r1.drug_2.tolist()"
   ]
  },
  {
   "cell_type": "markdown",
   "metadata": {},
   "source": [
    "# Import Chemical Structure Dataset"
   ]
  },
  {
   "cell_type": "code",
   "execution_count": 29,
   "metadata": {},
   "outputs": [],
   "source": [
    "#Import chemical substr dataset from pawel's dataset\n",
    "chem_str=pd.read_csv('data/chemical_substr.txt', sep='\\t')"
   ]
  },
  {
   "cell_type": "code",
   "execution_count": 30,
   "metadata": {},
   "outputs": [],
   "source": [
    "#rename column 1\n",
    "chem_str=chem_str.rename(columns={\"Unnamed: 0\": \"drug_name\"})"
   ]
  },
  {
   "cell_type": "code",
   "execution_count": 31,
   "metadata": {},
   "outputs": [
    {
     "data": {
      "text/html": [
       "<div>\n",
       "<style scoped>\n",
       "    .dataframe tbody tr th:only-of-type {\n",
       "        vertical-align: middle;\n",
       "    }\n",
       "\n",
       "    .dataframe tbody tr th {\n",
       "        vertical-align: top;\n",
       "    }\n",
       "\n",
       "    .dataframe thead th {\n",
       "        text-align: right;\n",
       "    }\n",
       "</style>\n",
       "<table border=\"1\" class=\"dataframe\">\n",
       "  <thead>\n",
       "    <tr style=\"text-align: right;\">\n",
       "      <th></th>\n",
       "      <th>drug_name</th>\n",
       "      <th>SUB1</th>\n",
       "      <th>SUB2</th>\n",
       "      <th>SUB3</th>\n",
       "      <th>SUB4</th>\n",
       "      <th>SUB5</th>\n",
       "      <th>SUB6</th>\n",
       "      <th>SUB7</th>\n",
       "      <th>SUB8</th>\n",
       "      <th>SUB9</th>\n",
       "      <th>...</th>\n",
       "      <th>SUB872</th>\n",
       "      <th>SUB873</th>\n",
       "      <th>SUB874</th>\n",
       "      <th>SUB875</th>\n",
       "      <th>SUB876</th>\n",
       "      <th>SUB877</th>\n",
       "      <th>SUB878</th>\n",
       "      <th>SUB879</th>\n",
       "      <th>SUB880</th>\n",
       "      <th>SUB881</th>\n",
       "    </tr>\n",
       "  </thead>\n",
       "  <tbody>\n",
       "    <tr>\n",
       "      <td>0</td>\n",
       "      <td>carnitine</td>\n",
       "      <td>1</td>\n",
       "      <td>1</td>\n",
       "      <td>1</td>\n",
       "      <td>0</td>\n",
       "      <td>0</td>\n",
       "      <td>0</td>\n",
       "      <td>0</td>\n",
       "      <td>0</td>\n",
       "      <td>0</td>\n",
       "      <td>...</td>\n",
       "      <td>0</td>\n",
       "      <td>0</td>\n",
       "      <td>0</td>\n",
       "      <td>0</td>\n",
       "      <td>0</td>\n",
       "      <td>0</td>\n",
       "      <td>0</td>\n",
       "      <td>0</td>\n",
       "      <td>0</td>\n",
       "      <td>0</td>\n",
       "    </tr>\n",
       "    <tr>\n",
       "      <td>1</td>\n",
       "      <td>GABA</td>\n",
       "      <td>1</td>\n",
       "      <td>1</td>\n",
       "      <td>0</td>\n",
       "      <td>0</td>\n",
       "      <td>0</td>\n",
       "      <td>0</td>\n",
       "      <td>0</td>\n",
       "      <td>0</td>\n",
       "      <td>0</td>\n",
       "      <td>...</td>\n",
       "      <td>0</td>\n",
       "      <td>0</td>\n",
       "      <td>0</td>\n",
       "      <td>0</td>\n",
       "      <td>0</td>\n",
       "      <td>0</td>\n",
       "      <td>0</td>\n",
       "      <td>0</td>\n",
       "      <td>0</td>\n",
       "      <td>0</td>\n",
       "    </tr>\n",
       "  </tbody>\n",
       "</table>\n",
       "<p>2 rows × 882 columns</p>\n",
       "</div>"
      ],
      "text/plain": [
       "   drug_name  SUB1  SUB2  SUB3  SUB4  SUB5  SUB6  SUB7  SUB8  SUB9  ...  \\\n",
       "0  carnitine     1     1     1     0     0     0     0     0     0  ...   \n",
       "1       GABA     1     1     0     0     0     0     0     0     0  ...   \n",
       "\n",
       "   SUB872  SUB873  SUB874  SUB875  SUB876  SUB877  SUB878  SUB879  SUB880  \\\n",
       "0       0       0       0       0       0       0       0       0       0   \n",
       "1       0       0       0       0       0       0       0       0       0   \n",
       "\n",
       "   SUB881  \n",
       "0       0  \n",
       "1       0  \n",
       "\n",
       "[2 rows x 882 columns]"
      ]
     },
     "execution_count": 31,
     "metadata": {},
     "output_type": "execute_result"
    }
   ],
   "source": [
    "chem_str.head(2)"
   ]
  },
  {
   "cell_type": "code",
   "execution_count": 32,
   "metadata": {},
   "outputs": [],
   "source": [
    "chem_str['drug_name']=chem_str.drug_name.str.lower()"
   ]
  },
  {
   "cell_type": "code",
   "execution_count": 33,
   "metadata": {},
   "outputs": [],
   "source": [
    "chem_str.iloc[:,1:889]=chem_str.iloc[:,1:889].apply(pd.to_numeric, downcast='integer')"
   ]
  },
  {
   "cell_type": "code",
   "execution_count": 34,
   "metadata": {},
   "outputs": [
    {
     "name": "stdout",
     "output_type": "stream",
     "text": [
      "<class 'pandas.core.frame.DataFrame'>\n",
      "RangeIndex: 888 entries, 0 to 887\n",
      "Columns: 882 entries, drug_name to SUB881\n",
      "dtypes: int8(881), object(1)\n",
      "memory usage: 771.1+ KB\n"
     ]
    }
   ],
   "source": [
    "chem_str.info()"
   ]
  },
  {
   "cell_type": "markdown",
   "metadata": {},
   "source": [
    "# Merges\n",
    "##Merge1- merge drug_1 from two_sides to chem_str drug_name and get the chem substr\n",
    "##merge 2 - merge drug_2 from two_sides to chem_str drug_name to get their chem substr\n",
    "Step 3- create list of each of the chem substr from merge 1 and merge 2 separately\n",
    "step 4 - find maximum of the binary profiles\n",
    "step 5 - Merge the file from step 4 back to combination of merge 1 and 2"
   ]
  },
  {
   "cell_type": "markdown",
   "metadata": {},
   "source": [
    "### MERGE1\n",
    "Steps: \n",
    "\n",
    "Step 1: merge drug-pair with side effects with chem str\n",
    "\n",
    "step 2: drop all the columns except the substr\n",
    "\n",
    "step 3- create a dataframe that has only the drug-drug pair for the corresponding substructure profile. this will be used to merge with merge2 dataset to get the correct drug-drug pair and the corresponding substructures"
   ]
  },
  {
   "cell_type": "code",
   "execution_count": 35,
   "metadata": {},
   "outputs": [],
   "source": [
    "#Merge1\n",
    "tscs_merge1=pd.merge(two_sides_r1, chem_str, left_on='drug_1', right_on='drug_name', \\\n",
    "                     how='inner')"
   ]
  },
  {
   "cell_type": "code",
   "execution_count": 36,
   "metadata": {},
   "outputs": [],
   "source": [
    "#tscs_merge1=tscs_merge1.drop(['drug_2'], axis=1)\n",
    "#.drop(['drug_name']), axis=1"
   ]
  },
  {
   "cell_type": "code",
   "execution_count": 37,
   "metadata": {},
   "outputs": [
    {
     "data": {
      "text/html": [
       "<div>\n",
       "<style scoped>\n",
       "    .dataframe tbody tr th:only-of-type {\n",
       "        vertical-align: middle;\n",
       "    }\n",
       "\n",
       "    .dataframe tbody tr th {\n",
       "        vertical-align: top;\n",
       "    }\n",
       "\n",
       "    .dataframe thead th {\n",
       "        text-align: right;\n",
       "    }\n",
       "</style>\n",
       "<table border=\"1\" class=\"dataframe\">\n",
       "  <thead>\n",
       "    <tr style=\"text-align: right;\">\n",
       "      <th></th>\n",
       "      <th>drug_1</th>\n",
       "      <th>drug_2</th>\n",
       "      <th>Diarrhoea</th>\n",
       "      <th>Dyspnoea</th>\n",
       "      <th>Nausea</th>\n",
       "      <th>Pneumonia</th>\n",
       "      <th>Pyrexia</th>\n",
       "      <th>Vomiting</th>\n",
       "      <th>drug_name</th>\n",
       "      <th>SUB1</th>\n",
       "      <th>...</th>\n",
       "      <th>SUB872</th>\n",
       "      <th>SUB873</th>\n",
       "      <th>SUB874</th>\n",
       "      <th>SUB875</th>\n",
       "      <th>SUB876</th>\n",
       "      <th>SUB877</th>\n",
       "      <th>SUB878</th>\n",
       "      <th>SUB879</th>\n",
       "      <th>SUB880</th>\n",
       "      <th>SUB881</th>\n",
       "    </tr>\n",
       "  </thead>\n",
       "  <tbody>\n",
       "    <tr>\n",
       "      <td>0</td>\n",
       "      <td>acarbose</td>\n",
       "      <td>acebutolol</td>\n",
       "      <td>0</td>\n",
       "      <td>1</td>\n",
       "      <td>0</td>\n",
       "      <td>0</td>\n",
       "      <td>1</td>\n",
       "      <td>0</td>\n",
       "      <td>acarbose</td>\n",
       "      <td>1</td>\n",
       "      <td>...</td>\n",
       "      <td>0</td>\n",
       "      <td>0</td>\n",
       "      <td>0</td>\n",
       "      <td>0</td>\n",
       "      <td>0</td>\n",
       "      <td>0</td>\n",
       "      <td>0</td>\n",
       "      <td>0</td>\n",
       "      <td>0</td>\n",
       "      <td>0</td>\n",
       "    </tr>\n",
       "    <tr>\n",
       "      <td>1</td>\n",
       "      <td>acarbose</td>\n",
       "      <td>acenocoumarol</td>\n",
       "      <td>1</td>\n",
       "      <td>1</td>\n",
       "      <td>0</td>\n",
       "      <td>0</td>\n",
       "      <td>1</td>\n",
       "      <td>1</td>\n",
       "      <td>acarbose</td>\n",
       "      <td>1</td>\n",
       "      <td>...</td>\n",
       "      <td>0</td>\n",
       "      <td>0</td>\n",
       "      <td>0</td>\n",
       "      <td>0</td>\n",
       "      <td>0</td>\n",
       "      <td>0</td>\n",
       "      <td>0</td>\n",
       "      <td>0</td>\n",
       "      <td>0</td>\n",
       "      <td>0</td>\n",
       "    </tr>\n",
       "  </tbody>\n",
       "</table>\n",
       "<p>2 rows × 890 columns</p>\n",
       "</div>"
      ],
      "text/plain": [
       "     drug_1         drug_2  Diarrhoea  Dyspnoea  Nausea  Pneumonia  Pyrexia  \\\n",
       "0  acarbose     acebutolol          0         1       0          0        1   \n",
       "1  acarbose  acenocoumarol          1         1       0          0        1   \n",
       "\n",
       "   Vomiting drug_name  SUB1  ...  SUB872  SUB873  SUB874  SUB875  SUB876  \\\n",
       "0         0  acarbose     1  ...       0       0       0       0       0   \n",
       "1         1  acarbose     1  ...       0       0       0       0       0   \n",
       "\n",
       "   SUB877  SUB878  SUB879  SUB880  SUB881  \n",
       "0       0       0       0       0       0  \n",
       "1       0       0       0       0       0  \n",
       "\n",
       "[2 rows x 890 columns]"
      ]
     },
     "execution_count": 37,
     "metadata": {},
     "output_type": "execute_result"
    }
   ],
   "source": [
    "tscs_merge1.head(2)"
   ]
  },
  {
   "cell_type": "code",
   "execution_count": null,
   "metadata": {},
   "outputs": [],
   "source": [
    "tscs_merge1_drugname= tscs_merge1.iloc[:, 0:2]"
   ]
  },
  {
   "cell_type": "code",
   "execution_count": null,
   "metadata": {},
   "outputs": [],
   "source": [
    "tscs_merge1_drugname.head(2)"
   ]
  },
  {
   "cell_type": "code",
   "execution_count": null,
   "metadata": {},
   "outputs": [],
   "source": [
    "tscs_merge1.iloc[123069:123073, ]"
   ]
  },
  {
   "cell_type": "code",
   "execution_count": null,
   "metadata": {},
   "outputs": [],
   "source": [
    "tscs_merge1.info()"
   ]
  },
  {
   "cell_type": "code",
   "execution_count": null,
   "metadata": {},
   "outputs": [],
   "source": [
    "tscs_merge1.drug_1.nunique()"
   ]
  },
  {
   "cell_type": "code",
   "execution_count": null,
   "metadata": {},
   "outputs": [],
   "source": [
    "tscs_merge1_list1=tscs_merge1.iloc[:, 9:]\n",
    "tscs_merge1_list=tscs_merge1_list1.values.tolist()\n",
    "\n",
    "#tscs_merge1_list=tcsc.reset_index()[['index', 'Names', 'Births']].values.astype(str).tolist()\n",
    "\n",
    "tscs_merge1_list=pd.Series(tscs_merge1_list)"
   ]
  },
  {
   "cell_type": "code",
   "execution_count": null,
   "metadata": {},
   "outputs": [],
   "source": [
    "tscs_merge1_list1.head(2)"
   ]
  },
  {
   "cell_type": "code",
   "execution_count": null,
   "metadata": {},
   "outputs": [],
   "source": [
    "tscs_merge1_list[0:3]"
   ]
  },
  {
   "cell_type": "markdown",
   "metadata": {},
   "source": [
    "### MERGE2"
   ]
  },
  {
   "cell_type": "code",
   "execution_count": null,
   "metadata": {},
   "outputs": [],
   "source": [
    "#Merge2\n",
    "tscs_merge2=pd.merge(two_sides_r1, chem_str, left_on='drug_2', right_on='drug_name', \\\n",
    "                     how='inner')"
   ]
  },
  {
   "cell_type": "code",
   "execution_count": null,
   "metadata": {},
   "outputs": [],
   "source": [
    "#tscs_merge2=tscs_merge2.drop(['drug_1'], axis=1)"
   ]
  },
  {
   "cell_type": "code",
   "execution_count": null,
   "metadata": {},
   "outputs": [],
   "source": [
    "tscs_merge2.head(2)"
   ]
  },
  {
   "cell_type": "code",
   "execution_count": null,
   "metadata": {},
   "outputs": [],
   "source": [
    "tscs_merge2_substr= tscs_merge2.drop(['drug_1', 'Diarrhoea', 'Dyspnoea', 'Nausea', \\\n",
    "                                      'Pneumonia', 'Pyrexia', 'Vomiting', 'drug_name'], \\\n",
    "                                     axis=1)"
   ]
  },
  {
   "cell_type": "code",
   "execution_count": null,
   "metadata": {},
   "outputs": [],
   "source": [
    "tscs_merge2_substr.head(2)"
   ]
  },
  {
   "cell_type": "markdown",
   "metadata": {},
   "source": [
    "### merge the drug_2 with substr to tscs_merge1_drugname to make both lists similar to original drug-drug pair before doing np.maximum function"
   ]
  },
  {
   "cell_type": "code",
   "execution_count": null,
   "metadata": {},
   "outputs": [],
   "source": [
    "tscs_merge2_substr_merge1_drugname=pd.merge(tscs_merge2_substr, tscs_merge1_drugname, \\\n",
    "                                           on='drug_2', how='inner')"
   ]
  },
  {
   "cell_type": "code",
   "execution_count": null,
   "metadata": {},
   "outputs": [],
   "source": [
    "tscs_merge2_substr_merge1_drugname.head(2)"
   ]
  },
  {
   "cell_type": "code",
   "execution_count": null,
   "metadata": {},
   "outputs": [],
   "source": [
    "tscs_merge2_str_list2=tscs_merge2_substr.iloc[:, 1:]\n",
    "tscs_merge2_str_list2a=tscs_merge2_str_list2.values.tolist()\n",
    "tscs_merge2_str_list2a=pd.Series(tscs_merge2_str_list2a)"
   ]
  },
  {
   "cell_type": "code",
   "execution_count": null,
   "metadata": {},
   "outputs": [],
   "source": [
    "tscs_merge2_str_list2a.head(2)"
   ]
  },
  {
   "cell_type": "code",
   "execution_count": null,
   "metadata": {},
   "outputs": [],
   "source": [
    "#tscs_merge2_list"
   ]
  },
  {
   "cell_type": "code",
   "execution_count": null,
   "metadata": {},
   "outputs": [],
   "source": [
    "#Merge 3 - Merge drug_2 from tscs_merge2 with drug_2 of tscs_merge1 \n",
    "#tscs_merge3=pd.merge(tscs_merge1_substr, tscs_merge2_substr, on='drug_2', \\\n",
    "#                     how='inner')"
   ]
  },
  {
   "cell_type": "code",
   "execution_count": null,
   "metadata": {},
   "outputs": [],
   "source": [
    "#tscs_m1_drugstr=tscs_merge3.iloc[:, 2:884]"
   ]
  },
  {
   "cell_type": "code",
   "execution_count": null,
   "metadata": {},
   "outputs": [],
   "source": [
    "#tscs_m1_drugstr.head(1)"
   ]
  },
  {
   "cell_type": "code",
   "execution_count": null,
   "metadata": {},
   "outputs": [],
   "source": [
    "#tscs_m1_drugstr_list=tscs_m1_drugstr.values.tolist()\n",
    "#tscs_m1_drugstr_list=pd.Series(tscs_m1_drugstr_list)"
   ]
  },
  {
   "cell_type": "code",
   "execution_count": null,
   "metadata": {},
   "outputs": [],
   "source": [
    "#tscs_m1_drugstr=tscs_merge3.iloc[:, 9:890]\n",
    "#tscs_merge2_list=tscs_merge2_list2.values.tolist()\n",
    "#tscs_merge2_list=pd.Series(tscs_merge2_list)"
   ]
  },
  {
   "cell_type": "code",
   "execution_count": null,
   "metadata": {},
   "outputs": [],
   "source": [
    "tscs_merge2.iloc[123069:, ]"
   ]
  },
  {
   "cell_type": "code",
   "execution_count": null,
   "metadata": {},
   "outputs": [],
   "source": [
    "len(tscs_merge2_list[123068])"
   ]
  },
  {
   "cell_type": "code",
   "execution_count": null,
   "metadata": {},
   "outputs": [],
   "source": [
    "type(tscs_merge2_list)"
   ]
  },
  {
   "cell_type": "markdown",
   "metadata": {},
   "source": [
    "### step 4 - find maximum of the binary profiles"
   ]
  },
  {
   "cell_type": "code",
   "execution_count": null,
   "metadata": {},
   "outputs": [],
   "source": [
    "chem_str_combind=np.maximum(tscs_merge1_list[0:123069], tscs_merge2_list[0:123069])"
   ]
  },
  {
   "cell_type": "code",
   "execution_count": null,
   "metadata": {},
   "outputs": [],
   "source": [
    "len(chem_str_combind[0])"
   ]
  },
  {
   "cell_type": "code",
   "execution_count": null,
   "metadata": {},
   "outputs": [],
   "source": [
    "type(chem_str_combind)"
   ]
  },
  {
   "cell_type": "code",
   "execution_count": null,
   "metadata": {},
   "outputs": [],
   "source": [
    "#convert the ADE_str list to dataframe \n",
    "chem_str_combind=pd.DataFrame(chem_str_combind.tolist())"
   ]
  },
  {
   "cell_type": "code",
   "execution_count": null,
   "metadata": {},
   "outputs": [],
   "source": [
    "chem_str_combind.head(2)"
   ]
  },
  {
   "cell_type": "code",
   "execution_count": null,
   "metadata": {},
   "outputs": [],
   "source": [
    "#add suffix to column names\n",
    "chem_str_combind=chem_str_combind.add_suffix('_sub')\n",
    "\n",
    "#convert to int8\n",
    "chem_str_combind=chem_str_combind.apply(pd.to_numeric, downcast='integer')\n",
    "#type(se_binary_ade)"
   ]
  },
  {
   "cell_type": "code",
   "execution_count": null,
   "metadata": {},
   "outputs": [],
   "source": [
    "chem_str_combind.head(2)"
   ]
  },
  {
   "cell_type": "markdown",
   "metadata": {},
   "source": [
    "### Merge drug fields with max chem_str binary profile(chem_str_combind)"
   ]
  },
  {
   "cell_type": "code",
   "execution_count": null,
   "metadata": {},
   "outputs": [],
   "source": [
    "tscs_merge1_drug_se=tscs_merge1.iloc[:123069, :9]\n",
    "tscs_merge1_drug_se.info()"
   ]
  },
  {
   "cell_type": "code",
   "execution_count": null,
   "metadata": {},
   "outputs": [],
   "source": [
    "tscs_merge1_drug_se.head(2)"
   ]
  },
  {
   "cell_type": "code",
   "execution_count": null,
   "metadata": {},
   "outputs": [],
   "source": [
    "final_model_data=pd.concat([tscs_merge1_drug_se, chem_str_combind], axis=1)"
   ]
  },
  {
   "cell_type": "code",
   "execution_count": null,
   "metadata": {},
   "outputs": [],
   "source": [
    "final_model_data.head()"
   ]
  },
  {
   "cell_type": "code",
   "execution_count": null,
   "metadata": {},
   "outputs": [],
   "source": [
    "final_model_data=final_model_data.drop(['drug_name'],axis=1)"
   ]
  },
  {
   "cell_type": "code",
   "execution_count": null,
   "metadata": {},
   "outputs": [],
   "source": [
    "#write the final model data to csv\n",
    "final_model_data.to_csv('data/final_model_data', index=False)"
   ]
  },
  {
   "cell_type": "code",
   "execution_count": null,
   "metadata": {},
   "outputs": [],
   "source": [
    "#convert series to dataframe"
   ]
  },
  {
   "cell_type": "code",
   "execution_count": null,
   "metadata": {},
   "outputs": [],
   "source": [
    "#chem_drug1_twosides=chem_str[chem_str['drug_name'].isin(two_sides_drug1list)]\n",
    "\n",
    "#chem_drug2_twosides=chem_str[chem_str['drug_name'].isin(two_sides_drug2list)]"
   ]
  },
  {
   "cell_type": "code",
   "execution_count": null,
   "metadata": {},
   "outputs": [],
   "source": [
    "chem_drug1_twosides.info()"
   ]
  },
  {
   "cell_type": "code",
   "execution_count": null,
   "metadata": {},
   "outputs": [],
   "source": []
  }
 ],
 "metadata": {
  "kernelspec": {
   "display_name": "Python 3",
   "language": "python",
   "name": "python3"
  },
  "language_info": {
   "codemirror_mode": {
    "name": "ipython",
    "version": 3
   },
   "file_extension": ".py",
   "mimetype": "text/x-python",
   "name": "python",
   "nbconvert_exporter": "python",
   "pygments_lexer": "ipython3",
   "version": "3.7.4"
  }
 },
 "nbformat": 4,
 "nbformat_minor": 2
}
